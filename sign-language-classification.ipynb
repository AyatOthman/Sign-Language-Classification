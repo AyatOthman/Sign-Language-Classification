{
 "cells": [
  {
   "cell_type": "code",
   "execution_count": 1,
   "id": "6f35def9",
   "metadata": {
    "_cell_guid": "b1076dfc-b9ad-4769-8c92-a6c4dae69d19",
    "_uuid": "8f2839f25d086af736a60e9eeb907d3b93b6e0e5",
    "execution": {
     "iopub.execute_input": "2024-04-09T00:16:10.817013Z",
     "iopub.status.busy": "2024-04-09T00:16:10.816428Z",
     "iopub.status.idle": "2024-04-09T00:16:11.701383Z",
     "shell.execute_reply": "2024-04-09T00:16:11.700378Z"
    },
    "papermill": {
     "duration": 0.898518,
     "end_time": "2024-04-09T00:16:11.703738",
     "exception": false,
     "start_time": "2024-04-09T00:16:10.805220",
     "status": "completed"
    },
    "tags": []
   },
   "outputs": [
    {
     "name": "stdout",
     "output_type": "stream",
     "text": [
      "/kaggle/input/sign-language-mnist/sign_mnist_test.csv\n",
      "/kaggle/input/sign-language-mnist/amer_sign2.png\n",
      "/kaggle/input/sign-language-mnist/amer_sign3.png\n",
      "/kaggle/input/sign-language-mnist/sign_mnist_train.csv\n",
      "/kaggle/input/sign-language-mnist/american_sign_language.PNG\n",
      "/kaggle/input/sign-language-mnist/sign_mnist_test/sign_mnist_test.csv\n",
      "/kaggle/input/sign-language-mnist/sign_mnist_train/sign_mnist_train.csv\n"
     ]
    }
   ],
   "source": [
    "# This Python 3 environment comes with many helpful analytics libraries installed\n",
    "# It is defined by the kaggle/python Docker image: https://github.com/kaggle/docker-python\n",
    "# For example, here's several helpful packages to load\n",
    "\n",
    "import numpy as np # linear algebra\n",
    "import pandas as pd # data processing, CSV file I/O (e.g. pd.read_csv)\n",
    "\n",
    "# Input data files are available in the read-only \"../input/\" directory\n",
    "# For example, running this (by clicking run or pressing Shift+Enter) will list all files under the input directory\n",
    "\n",
    "import os\n",
    "for dirname, _, filenames in os.walk('/kaggle/input'):\n",
    "    for filename in filenames:\n",
    "        print(os.path.join(dirname, filename))\n",
    "\n",
    "# You can write up to 20GB to the current directory (/kaggle/working/) that gets preserved as output when you create a version using \"Save & Run All\" \n",
    "# You can also write temporary files to /kaggle/temp/, but they won't be saved outside of the current session"
   ]
  },
  {
   "cell_type": "code",
   "execution_count": 2,
   "id": "950279e1",
   "metadata": {
    "execution": {
     "iopub.execute_input": "2024-04-09T00:16:11.718362Z",
     "iopub.status.busy": "2024-04-09T00:16:11.718006Z",
     "iopub.status.idle": "2024-04-09T00:16:25.153875Z",
     "shell.execute_reply": "2024-04-09T00:16:25.152517Z"
    },
    "papermill": {
     "duration": 13.447047,
     "end_time": "2024-04-09T00:16:25.157515",
     "exception": false,
     "start_time": "2024-04-09T00:16:11.710468",
     "status": "completed"
    },
    "tags": []
   },
   "outputs": [
    {
     "name": "stderr",
     "output_type": "stream",
     "text": [
      "2024-04-09 00:16:14.061793: E external/local_xla/xla/stream_executor/cuda/cuda_dnn.cc:9261] Unable to register cuDNN factory: Attempting to register factory for plugin cuDNN when one has already been registered\n",
      "2024-04-09 00:16:14.061917: E external/local_xla/xla/stream_executor/cuda/cuda_fft.cc:607] Unable to register cuFFT factory: Attempting to register factory for plugin cuFFT when one has already been registered\n",
      "2024-04-09 00:16:14.240559: E external/local_xla/xla/stream_executor/cuda/cuda_blas.cc:1515] Unable to register cuBLAS factory: Attempting to register factory for plugin cuBLAS when one has already been registered\n"
     ]
    }
   ],
   "source": [
    "import pandas as pd \n",
    "import numpy as np \n",
    "import random\n",
    "import matplotlib.pyplot as plt\n",
    "from keras.utils import to_categorical\n",
    "from keras.models import Sequential \n",
    "from keras.layers import Conv2D, MaxPooling2D, Dense, Flatten, Dropout\n"
   ]
  },
  {
   "cell_type": "code",
   "execution_count": 3,
   "id": "d5e8caaf",
   "metadata": {
    "execution": {
     "iopub.execute_input": "2024-04-09T00:16:25.188231Z",
     "iopub.status.busy": "2024-04-09T00:16:25.186890Z",
     "iopub.status.idle": "2024-04-09T00:16:30.561056Z",
     "shell.execute_reply": "2024-04-09T00:16:30.560030Z"
    },
    "papermill": {
     "duration": 5.393324,
     "end_time": "2024-04-09T00:16:30.563504",
     "exception": false,
     "start_time": "2024-04-09T00:16:25.170180",
     "status": "completed"
    },
    "tags": []
   },
   "outputs": [],
   "source": [
    "train = pd.read_csv('/kaggle/input/sign-language-mnist/sign_mnist_train.csv')\n",
    "test = pd.read_csv('/kaggle/input/sign-language-mnist/sign_mnist_test.csv')"
   ]
  },
  {
   "cell_type": "code",
   "execution_count": 4,
   "id": "4d8d0fca",
   "metadata": {
    "execution": {
     "iopub.execute_input": "2024-04-09T00:16:30.579571Z",
     "iopub.status.busy": "2024-04-09T00:16:30.578794Z",
     "iopub.status.idle": "2024-04-09T00:16:30.671441Z",
     "shell.execute_reply": "2024-04-09T00:16:30.670370Z"
    },
    "papermill": {
     "duration": 0.103423,
     "end_time": "2024-04-09T00:16:30.674019",
     "exception": false,
     "start_time": "2024-04-09T00:16:30.570596",
     "status": "completed"
    },
    "tags": []
   },
   "outputs": [],
   "source": [
    "train_data = np.array(train , dtype = 'float32')\n",
    "test_data = np.array(test , dtype = 'float32')"
   ]
  },
  {
   "cell_type": "code",
   "execution_count": 5,
   "id": "d446aca5",
   "metadata": {
    "execution": {
     "iopub.execute_input": "2024-04-09T00:16:30.689641Z",
     "iopub.status.busy": "2024-04-09T00:16:30.688831Z",
     "iopub.status.idle": "2024-04-09T00:16:30.693954Z",
     "shell.execute_reply": "2024-04-09T00:16:30.693122Z"
    },
    "papermill": {
     "duration": 0.014824,
     "end_time": "2024-04-09T00:16:30.695816",
     "exception": false,
     "start_time": "2024-04-09T00:16:30.680992",
     "status": "completed"
    },
    "tags": []
   },
   "outputs": [],
   "source": [
    "class_names = ['A','B','C','D','E','F','G','H','I','J','K','L','M','N','O','P','Q','R','S','T','U','V','W','X','Y']"
   ]
  },
  {
   "cell_type": "code",
   "execution_count": 6,
   "id": "926c5e6a",
   "metadata": {
    "execution": {
     "iopub.execute_input": "2024-04-09T00:16:30.710045Z",
     "iopub.status.busy": "2024-04-09T00:16:30.709764Z",
     "iopub.status.idle": "2024-04-09T00:16:30.880896Z",
     "shell.execute_reply": "2024-04-09T00:16:30.879957Z"
    },
    "papermill": {
     "duration": 0.180875,
     "end_time": "2024-04-09T00:16:30.883329",
     "exception": false,
     "start_time": "2024-04-09T00:16:30.702454",
     "status": "completed"
    },
    "tags": []
   },
   "outputs": [
    {
     "name": "stdout",
     "output_type": "stream",
     "text": [
      "Label For The Image is: V\n"
     ]
    },
    {
     "data": {
      "image/png": "[encoded data removed]",
      "text/plain": [
       "<Figure size 200x200 with 1 Axes>"
      ]
     },
     "metadata": {},
     "output_type": "display_data"
    }
   ],
   "source": [
    "i = random.randint(1, train.shape[0])\n",
    "fig1, ax1 = plt.subplots(figsize=(2, 2))\n",
    "plt.imshow(train_data[i, 1:].reshape((28, 28)), cmap='gray')\n",
    "print(\"Label For The Image is:\", class_names[int(train_data[i, 0])])"
   ]
  },
  {
   "cell_type": "code",
   "execution_count": 7,
   "id": "0d5080e1",
   "metadata": {
    "execution": {
     "iopub.execute_input": "2024-04-09T00:16:30.899129Z",
     "iopub.status.busy": "2024-04-09T00:16:30.898387Z",
     "iopub.status.idle": "2024-04-09T00:16:31.313191Z",
     "shell.execute_reply": "2024-04-09T00:16:31.312244Z"
    },
    "papermill": {
     "duration": 0.42467,
     "end_time": "2024-04-09T00:16:31.315147",
     "exception": false,
     "start_time": "2024-04-09T00:16:30.890477",
     "status": "completed"
    },
    "tags": []
   },
   "outputs": [
    {
     "data": {
      "text/plain": [
       "Text(0.5, 1.0, 'label')"
      ]
     },
     "execution_count": 7,
     "metadata": {},
     "output_type": "execute_result"
    },
    {
     "data": {
      "image/png": "[encoded data removed]",
      "text/plain": [
       "<Figure size 1800x1800 with 1 Axes>"
      ]
     },
     "metadata": {},
     "output_type": "display_data"
    }
   ],
   "source": [
    "fig = plt.figure(figsize=(18,18))\n",
    "ax1 = fig.add_subplot(221)\n",
    "train['label'].value_counts().plot(kind='bar',ax=ax1)\n",
    "ax1.set_ylabel('Count')\n",
    "ax1.set_title('label')"
   ]
  },
  {
   "cell_type": "code",
   "execution_count": 8,
   "id": "43fa288c",
   "metadata": {
    "execution": {
     "iopub.execute_input": "2024-04-09T00:16:31.331375Z",
     "iopub.status.busy": "2024-04-09T00:16:31.331081Z",
     "iopub.status.idle": "2024-04-09T00:16:31.365632Z",
     "shell.execute_reply": "2024-04-09T00:16:31.364810Z"
    },
    "papermill": {
     "duration": 0.045414,
     "end_time": "2024-04-09T00:16:31.368086",
     "exception": false,
     "start_time": "2024-04-09T00:16:31.322672",
     "status": "completed"
    },
    "tags": []
   },
   "outputs": [],
   "source": [
    "X_train = train_data[:,1:]/255.\n",
    "X_test = test_data[:,1:]/255."
   ]
  },
  {
   "cell_type": "code",
   "execution_count": 9,
   "id": "a480d614",
   "metadata": {
    "execution": {
     "iopub.execute_input": "2024-04-09T00:16:31.384418Z",
     "iopub.status.busy": "2024-04-09T00:16:31.384095Z",
     "iopub.status.idle": "2024-04-09T00:16:31.389232Z",
     "shell.execute_reply": "2024-04-09T00:16:31.388480Z"
    },
    "papermill": {
     "duration": 0.015588,
     "end_time": "2024-04-09T00:16:31.391303",
     "exception": false,
     "start_time": "2024-04-09T00:16:31.375715",
     "status": "completed"
    },
    "tags": []
   },
   "outputs": [],
   "source": [
    "y_train = train_data[:,0]\n",
    "y_train_category = to_categorical(y_train, num_classes=25)"
   ]
  },
  {
   "cell_type": "code",
   "execution_count": 10,
   "id": "8bbda6cb",
   "metadata": {
    "execution": {
     "iopub.execute_input": "2024-04-09T00:16:31.408103Z",
     "iopub.status.busy": "2024-04-09T00:16:31.407804Z",
     "iopub.status.idle": "2024-04-09T00:16:31.412497Z",
     "shell.execute_reply": "2024-04-09T00:16:31.411801Z"
    },
    "papermill": {
     "duration": 0.014834,
     "end_time": "2024-04-09T00:16:31.414352",
     "exception": false,
     "start_time": "2024-04-09T00:16:31.399518",
     "status": "completed"
    },
    "tags": []
   },
   "outputs": [],
   "source": [
    "y_test = test_data[:,0]\n",
    "y_test_category = to_categorical(y_test, num_classes=25)"
   ]
  },
  {
   "cell_type": "code",
   "execution_count": 11,
   "id": "c197e75f",
   "metadata": {
    "execution": {
     "iopub.execute_input": "2024-04-09T00:16:31.430489Z",
     "iopub.status.busy": "2024-04-09T00:16:31.429934Z",
     "iopub.status.idle": "2024-04-09T00:16:31.434442Z",
     "shell.execute_reply": "2024-04-09T00:16:31.433603Z"
    },
    "papermill": {
     "duration": 0.014455,
     "end_time": "2024-04-09T00:16:31.436248",
     "exception": false,
     "start_time": "2024-04-09T00:16:31.421793",
     "status": "completed"
    },
    "tags": []
   },
   "outputs": [],
   "source": [
    "X_train = X_train.reshape(X_train.shape[0],*(28,28,1))\n",
    "X_test = X_test.reshape(X_test.shape[0],*(28,28,1))"
   ]
  },
  {
   "cell_type": "code",
   "execution_count": 12,
   "id": "57320354",
   "metadata": {
    "execution": {
     "iopub.execute_input": "2024-04-09T00:16:31.452348Z",
     "iopub.status.busy": "2024-04-09T00:16:31.451810Z",
     "iopub.status.idle": "2024-04-09T00:16:31.459464Z",
     "shell.execute_reply": "2024-04-09T00:16:31.458621Z"
    },
    "papermill": {
     "duration": 0.017816,
     "end_time": "2024-04-09T00:16:31.461442",
     "exception": false,
     "start_time": "2024-04-09T00:16:31.443626",
     "status": "completed"
    },
    "tags": []
   },
   "outputs": [],
   "source": [
    "model = Sequential()"
   ]
  },
  {
   "cell_type": "code",
   "execution_count": 13,
   "id": "ae794aeb",
   "metadata": {
    "execution": {
     "iopub.execute_input": "2024-04-09T00:16:31.477903Z",
     "iopub.status.busy": "2024-04-09T00:16:31.477305Z",
     "iopub.status.idle": "2024-04-09T00:16:32.428119Z",
     "shell.execute_reply": "2024-04-09T00:16:32.427304Z"
    },
    "papermill": {
     "duration": 0.961511,
     "end_time": "2024-04-09T00:16:32.430482",
     "exception": false,
     "start_time": "2024-04-09T00:16:31.468971",
     "status": "completed"
    },
    "tags": []
   },
   "outputs": [
    {
     "name": "stderr",
     "output_type": "stream",
     "text": [
      "/opt/conda/lib/python3.10/site-packages/keras/src/layers/convolutional/base_conv.py:99: UserWarning: Do not pass an `input_shape`/`input_dim` argument to a layer. When using Sequential models, prefer using an `Input(shape)` object as the first layer in the model instead.\n",
      "  super().__init__(\n"
     ]
    }
   ],
   "source": [
    "model.add(Conv2D(32,(3,3),input_shape = (28,28,1), activation='relu'))\n",
    "model.add(MaxPooling2D(pool_size = (2,2)))\n",
    "model.add(Dropout(0.2))\n",
    "\n",
    "model.add(Conv2D(64,(3,3), activation='relu'))\n",
    "model.add(MaxPooling2D(pool_size = (2,2)))\n",
    "model.add(Dropout(0.2))\n",
    "\n",
    "model.add(Conv2D(128,(3,3), activation='relu'))\n",
    "model.add(MaxPooling2D(pool_size = (2,2)))\n",
    "model.add(Dropout(0.2))\n",
    "\n",
    "model.add(Flatten())\n",
    "\n",
    "model.add(Dense(128,activation = 'relu'))\n",
    "model.add(Dense(25, activation = 'softmax'))"
   ]
  },
  {
   "cell_type": "code",
   "execution_count": 14,
   "id": "5874901c",
   "metadata": {
    "execution": {
     "iopub.execute_input": "2024-04-09T00:16:32.447310Z",
     "iopub.status.busy": "2024-04-09T00:16:32.446993Z",
     "iopub.status.idle": "2024-04-09T00:16:32.482558Z",
     "shell.execute_reply": "2024-04-09T00:16:32.481642Z"
    },
    "papermill": {
     "duration": 0.046283,
     "end_time": "2024-04-09T00:16:32.484509",
     "exception": false,
     "start_time": "2024-04-09T00:16:32.438226",
     "status": "completed"
    },
    "tags": []
   },
   "outputs": [
    {
     "data": {
      "text/html": [
       "<pre style=\"white-space:pre;overflow-x:auto;line-height:normal;font-family:Menlo,'DejaVu Sans Mono',consolas,'Courier New',monospace\"><span style=\"font-weight: bold\">Model: \"sequential\"</span>\n",
       "</pre>\n"
      ],
      "text/plain": [
       "\u001b[1mModel: \"sequential\"\u001b[0m\n"
      ]
     },
     "metadata": {},
     "output_type": "display_data"
    },
    {
     "data": {
      "text/html": [
       "<pre style=\"white-space:pre;overflow-x:auto;line-height:normal;font-family:Menlo,'DejaVu Sans Mono',consolas,'Courier New',monospace\">┏━━━━━━━━━━━━━━━━━━━━━━━━━━━━━━━━━┳━━━━━━━━━━━━━━━━━━━━━━━━┳━━━━━━━━━━━━━━━┓\n",
       "┃<span style=\"font-weight: bold\"> Layer (type)                    </span>┃<span style=\"font-weight: bold\"> Output Shape           </span>┃<span style=\"font-weight: bold\">       Param # </span>┃\n",
       "┡━━━━━━━━━━━━━━━━━━━━━━━━━━━━━━━━━╇━━━━━━━━━━━━━━━━━━━━━━━━╇━━━━━━━━━━━━━━━┩\n",
       "│ conv2d (<span style=\"color: #0087ff; text-decoration-color: #0087ff\">Conv2D</span>)                 │ (<span style=\"color: #00d7ff; text-decoration-color: #00d7ff\">None</span>, <span style=\"color: #00af00; text-decoration-color: #00af00\">26</span>, <span style=\"color: #00af00; text-decoration-color: #00af00\">26</span>, <span style=\"color: #00af00; text-decoration-color: #00af00\">32</span>)     │           <span style=\"color: #00af00; text-decoration-color: #00af00\">320</span> │\n",
       "├─────────────────────────────────┼────────────────────────┼───────────────┤\n",
       "│ max_pooling2d (<span style=\"color: #0087ff; text-decoration-color: #0087ff\">MaxPooling2D</span>)    │ (<span style=\"color: #00d7ff; text-decoration-color: #00d7ff\">None</span>, <span style=\"color: #00af00; text-decoration-color: #00af00\">13</span>, <span style=\"color: #00af00; text-decoration-color: #00af00\">13</span>, <span style=\"color: #00af00; text-decoration-color: #00af00\">32</span>)     │             <span style=\"color: #00af00; text-decoration-color: #00af00\">0</span> │\n",
       "├─────────────────────────────────┼────────────────────────┼───────────────┤\n",
       "│ dropout (<span style=\"color: #0087ff; text-decoration-color: #0087ff\">Dropout</span>)               │ (<span style=\"color: #00d7ff; text-decoration-color: #00d7ff\">None</span>, <span style=\"color: #00af00; text-decoration-color: #00af00\">13</span>, <span style=\"color: #00af00; text-decoration-color: #00af00\">13</span>, <span style=\"color: #00af00; text-decoration-color: #00af00\">32</span>)     │             <span style=\"color: #00af00; text-decoration-color: #00af00\">0</span> │\n",
       "├─────────────────────────────────┼────────────────────────┼───────────────┤\n",
       "│ conv2d_1 (<span style=\"color: #0087ff; text-decoration-color: #0087ff\">Conv2D</span>)               │ (<span style=\"color: #00d7ff; text-decoration-color: #00d7ff\">None</span>, <span style=\"color: #00af00; text-decoration-color: #00af00\">11</span>, <span style=\"color: #00af00; text-decoration-color: #00af00\">11</span>, <span style=\"color: #00af00; text-decoration-color: #00af00\">64</span>)     │        <span style=\"color: #00af00; text-decoration-color: #00af00\">18,496</span> │\n",
       "├─────────────────────────────────┼────────────────────────┼───────────────┤\n",
       "│ max_pooling2d_1 (<span style=\"color: #0087ff; text-decoration-color: #0087ff\">MaxPooling2D</span>)  │ (<span style=\"color: #00d7ff; text-decoration-color: #00d7ff\">None</span>, <span style=\"color: #00af00; text-decoration-color: #00af00\">5</span>, <span style=\"color: #00af00; text-decoration-color: #00af00\">5</span>, <span style=\"color: #00af00; text-decoration-color: #00af00\">64</span>)       │             <span style=\"color: #00af00; text-decoration-color: #00af00\">0</span> │\n",
       "├─────────────────────────────────┼────────────────────────┼───────────────┤\n",
       "│ dropout_1 (<span style=\"color: #0087ff; text-decoration-color: #0087ff\">Dropout</span>)             │ (<span style=\"color: #00d7ff; text-decoration-color: #00d7ff\">None</span>, <span style=\"color: #00af00; text-decoration-color: #00af00\">5</span>, <span style=\"color: #00af00; text-decoration-color: #00af00\">5</span>, <span style=\"color: #00af00; text-decoration-color: #00af00\">64</span>)       │             <span style=\"color: #00af00; text-decoration-color: #00af00\">0</span> │\n",
       "├─────────────────────────────────┼────────────────────────┼───────────────┤\n",
       "│ conv2d_2 (<span style=\"color: #0087ff; text-decoration-color: #0087ff\">Conv2D</span>)               │ (<span style=\"color: #00d7ff; text-decoration-color: #00d7ff\">None</span>, <span style=\"color: #00af00; text-decoration-color: #00af00\">3</span>, <span style=\"color: #00af00; text-decoration-color: #00af00\">3</span>, <span style=\"color: #00af00; text-decoration-color: #00af00\">128</span>)      │        <span style=\"color: #00af00; text-decoration-color: #00af00\">73,856</span> │\n",
       "├─────────────────────────────────┼────────────────────────┼───────────────┤\n",
       "│ max_pooling2d_2 (<span style=\"color: #0087ff; text-decoration-color: #0087ff\">MaxPooling2D</span>)  │ (<span style=\"color: #00d7ff; text-decoration-color: #00d7ff\">None</span>, <span style=\"color: #00af00; text-decoration-color: #00af00\">1</span>, <span style=\"color: #00af00; text-decoration-color: #00af00\">1</span>, <span style=\"color: #00af00; text-decoration-color: #00af00\">128</span>)      │             <span style=\"color: #00af00; text-decoration-color: #00af00\">0</span> │\n",
       "├─────────────────────────────────┼────────────────────────┼───────────────┤\n",
       "│ dropout_2 (<span style=\"color: #0087ff; text-decoration-color: #0087ff\">Dropout</span>)             │ (<span style=\"color: #00d7ff; text-decoration-color: #00d7ff\">None</span>, <span style=\"color: #00af00; text-decoration-color: #00af00\">1</span>, <span style=\"color: #00af00; text-decoration-color: #00af00\">1</span>, <span style=\"color: #00af00; text-decoration-color: #00af00\">128</span>)      │             <span style=\"color: #00af00; text-decoration-color: #00af00\">0</span> │\n",
       "├─────────────────────────────────┼────────────────────────┼───────────────┤\n",
       "│ flatten (<span style=\"color: #0087ff; text-decoration-color: #0087ff\">Flatten</span>)               │ (<span style=\"color: #00d7ff; text-decoration-color: #00d7ff\">None</span>, <span style=\"color: #00af00; text-decoration-color: #00af00\">128</span>)            │             <span style=\"color: #00af00; text-decoration-color: #00af00\">0</span> │\n",
       "├─────────────────────────────────┼────────────────────────┼───────────────┤\n",
       "│ dense (<span style=\"color: #0087ff; text-decoration-color: #0087ff\">Dense</span>)                   │ (<span style=\"color: #00d7ff; text-decoration-color: #00d7ff\">None</span>, <span style=\"color: #00af00; text-decoration-color: #00af00\">128</span>)            │        <span style=\"color: #00af00; text-decoration-color: #00af00\">16,512</span> │\n",
       "├─────────────────────────────────┼────────────────────────┼───────────────┤\n",
       "│ dense_1 (<span style=\"color: #0087ff; text-decoration-color: #0087ff\">Dense</span>)                 │ (<span style=\"color: #00d7ff; text-decoration-color: #00d7ff\">None</span>, <span style=\"color: #00af00; text-decoration-color: #00af00\">25</span>)             │         <span style=\"color: #00af00; text-decoration-color: #00af00\">3,225</span> │\n",
       "└─────────────────────────────────┴────────────────────────┴───────────────┘\n",
       "</pre>\n"
      ],
      "text/plain": [
       "┏━━━━━━━━━━━━━━━━━━━━━━━━━━━━━━━━━┳━━━━━━━━━━━━━━━━━━━━━━━━┳━━━━━━━━━━━━━━━┓\n",
       "┃\u001b[1m \u001b[0m\u001b[1mLayer (type)                   \u001b[0m\u001b[1m \u001b[0m┃\u001b[1m \u001b[0m\u001b[1mOutput Shape          \u001b[0m\u001b[1m \u001b[0m┃\u001b[1m \u001b[0m\u001b[1m      Param #\u001b[0m\u001b[1m \u001b[0m┃\n",
       "┡━━━━━━━━━━━━━━━━━━━━━━━━━━━━━━━━━╇━━━━━━━━━━━━━━━━━━━━━━━━╇━━━━━━━━━━━━━━━┩\n",
       "│ conv2d (\u001b[38;5;33mConv2D\u001b[0m)                 │ (\u001b[38;5;45mNone\u001b[0m, \u001b[38;5;34m26\u001b[0m, \u001b[38;5;34m26\u001b[0m, \u001b[38;5;34m32\u001b[0m)     │           \u001b[38;5;34m320\u001b[0m │\n",
       "├─────────────────────────────────┼────────────────────────┼───────────────┤\n",
       "│ max_pooling2d (\u001b[38;5;33mMaxPooling2D\u001b[0m)    │ (\u001b[38;5;45mNone\u001b[0m, \u001b[38;5;34m13\u001b[0m, \u001b[38;5;34m13\u001b[0m, \u001b[38;5;34m32\u001b[0m)     │             \u001b[38;5;34m0\u001b[0m │\n",
       "├─────────────────────────────────┼────────────────────────┼───────────────┤\n",
       "│ dropout (\u001b[38;5;33mDropout\u001b[0m)               │ (\u001b[38;5;45mNone\u001b[0m, \u001b[38;5;34m13\u001b[0m, \u001b[38;5;34m13\u001b[0m, \u001b[38;5;34m32\u001b[0m)     │             \u001b[38;5;34m0\u001b[0m │\n",
       "├─────────────────────────────────┼────────────────────────┼───────────────┤\n",
       "│ conv2d_1 (\u001b[38;5;33mConv2D\u001b[0m)               │ (\u001b[38;5;45mNone\u001b[0m, \u001b[38;5;34m11\u001b[0m, \u001b[38;5;34m11\u001b[0m, \u001b[38;5;34m64\u001b[0m)     │        \u001b[38;5;34m18,496\u001b[0m │\n",
       "├─────────────────────────────────┼────────────────────────┼───────────────┤\n",
       "│ max_pooling2d_1 (\u001b[38;5;33mMaxPooling2D\u001b[0m)  │ (\u001b[38;5;45mNone\u001b[0m, \u001b[38;5;34m5\u001b[0m, \u001b[38;5;34m5\u001b[0m, \u001b[38;5;34m64\u001b[0m)       │             \u001b[38;5;34m0\u001b[0m │\n",
       "├─────────────────────────────────┼────────────────────────┼───────────────┤\n",
       "│ dropout_1 (\u001b[38;5;33mDropout\u001b[0m)             │ (\u001b[38;5;45mNone\u001b[0m, \u001b[38;5;34m5\u001b[0m, \u001b[38;5;34m5\u001b[0m, \u001b[38;5;34m64\u001b[0m)       │             \u001b[38;5;34m0\u001b[0m │\n",
       "├─────────────────────────────────┼────────────────────────┼───────────────┤\n",
       "│ conv2d_2 (\u001b[38;5;33mConv2D\u001b[0m)               │ (\u001b[38;5;45mNone\u001b[0m, \u001b[38;5;34m3\u001b[0m, \u001b[38;5;34m3\u001b[0m, \u001b[38;5;34m128\u001b[0m)      │        \u001b[38;5;34m73,856\u001b[0m │\n",
       "├─────────────────────────────────┼────────────────────────┼───────────────┤\n",
       "│ max_pooling2d_2 (\u001b[38;5;33mMaxPooling2D\u001b[0m)  │ (\u001b[38;5;45mNone\u001b[0m, \u001b[38;5;34m1\u001b[0m, \u001b[38;5;34m1\u001b[0m, \u001b[38;5;34m128\u001b[0m)      │             \u001b[38;5;34m0\u001b[0m │\n",
       "├─────────────────────────────────┼────────────────────────┼───────────────┤\n",
       "│ dropout_2 (\u001b[38;5;33mDropout\u001b[0m)             │ (\u001b[38;5;45mNone\u001b[0m, \u001b[38;5;34m1\u001b[0m, \u001b[38;5;34m1\u001b[0m, \u001b[38;5;34m128\u001b[0m)      │             \u001b[38;5;34m0\u001b[0m │\n",
       "├─────────────────────────────────┼────────────────────────┼───────────────┤\n",
       "│ flatten (\u001b[38;5;33mFlatten\u001b[0m)               │ (\u001b[38;5;45mNone\u001b[0m, \u001b[38;5;34m128\u001b[0m)            │             \u001b[38;5;34m0\u001b[0m │\n",
       "├─────────────────────────────────┼────────────────────────┼───────────────┤\n",
       "│ dense (\u001b[38;5;33mDense\u001b[0m)                   │ (\u001b[38;5;45mNone\u001b[0m, \u001b[38;5;34m128\u001b[0m)            │        \u001b[38;5;34m16,512\u001b[0m │\n",
       "├─────────────────────────────────┼────────────────────────┼───────────────┤\n",
       "│ dense_1 (\u001b[38;5;33mDense\u001b[0m)                 │ (\u001b[38;5;45mNone\u001b[0m, \u001b[38;5;34m25\u001b[0m)             │         \u001b[38;5;34m3,225\u001b[0m │\n",
       "└─────────────────────────────────┴────────────────────────┴───────────────┘\n"
      ]
     },
     "metadata": {},
     "output_type": "display_data"
    },
    {
     "data": {
      "text/html": [
       "<pre style=\"white-space:pre;overflow-x:auto;line-height:normal;font-family:Menlo,'DejaVu Sans Mono',consolas,'Courier New',monospace\"><span style=\"font-weight: bold\"> Total params: </span><span style=\"color: #00af00; text-decoration-color: #00af00\">112,409</span> (439.10 KB)\n",
       "</pre>\n"
      ],
      "text/plain": [
       "\u001b[1m Total params: \u001b[0m\u001b[38;5;34m112,409\u001b[0m (439.10 KB)\n"
      ]
     },
     "metadata": {},
     "output_type": "display_data"
    },
    {
     "data": {
      "text/html": [
       "<pre style=\"white-space:pre;overflow-x:auto;line-height:normal;font-family:Menlo,'DejaVu Sans Mono',consolas,'Courier New',monospace\"><span style=\"font-weight: bold\"> Trainable params: </span><span style=\"color: #00af00; text-decoration-color: #00af00\">112,409</span> (439.10 KB)\n",
       "</pre>\n"
      ],
      "text/plain": [
       "\u001b[1m Trainable params: \u001b[0m\u001b[38;5;34m112,409\u001b[0m (439.10 KB)\n"
      ]
     },
     "metadata": {},
     "output_type": "display_data"
    },
    {
     "data": {
      "text/html": [
       "<pre style=\"white-space:pre;overflow-x:auto;line-height:normal;font-family:Menlo,'DejaVu Sans Mono',consolas,'Courier New',monospace\"><span style=\"font-weight: bold\"> Non-trainable params: </span><span style=\"color: #00af00; text-decoration-color: #00af00\">0</span> (0.00 B)\n",
       "</pre>\n"
      ],
      "text/plain": [
       "\u001b[1m Non-trainable params: \u001b[0m\u001b[38;5;34m0\u001b[0m (0.00 B)\n"
      ]
     },
     "metadata": {},
     "output_type": "display_data"
    }
   ],
   "source": [
    "model.compile(loss= 'categorical_crossentropy',optimizer='adam', metrics = ['acc'])\n",
    "model.summary()"
   ]
  },
  {
   "cell_type": "code",
   "execution_count": 15,
   "id": "66f1ee83",
   "metadata": {
    "execution": {
     "iopub.execute_input": "2024-04-09T00:16:32.503212Z",
     "iopub.status.busy": "2024-04-09T00:16:32.502908Z",
     "iopub.status.idle": "2024-04-09T00:16:58.426588Z",
     "shell.execute_reply": "2024-04-09T00:16:58.425768Z"
    },
    "papermill": {
     "duration": 25.935503,
     "end_time": "2024-04-09T00:16:58.428714",
     "exception": false,
     "start_time": "2024-04-09T00:16:32.493211",
     "status": "completed"
    },
    "tags": []
   },
   "outputs": [
    {
     "name": "stdout",
     "output_type": "stream",
     "text": [
      "Epoch 1/10\n",
      "\u001b[1m 32/215\u001b[0m \u001b[32m━━\u001b[0m\u001b[37m━━━━━━━━━━━━━━━━━━\u001b[0m \u001b[1m0s\u001b[0m 5ms/step - acc: 0.0435 - loss: 3.2102"
     ]
    },
    {
     "name": "stderr",
     "output_type": "stream",
     "text": [
      "WARNING: All log messages before absl::InitializeLog() is called are written to STDERR\n",
      "I0000 00:00:1712621802.218144      75 device_compiler.h:186] Compiled cluster using XLA!  This line is logged at most once for the lifetime of the process.\n"
     ]
    },
    {
     "name": "stdout",
     "output_type": "stream",
     "text": [
      "\u001b[1m215/215\u001b[0m \u001b[32m━━━━━━━━━━━━━━━━━━━━\u001b[0m\u001b[37m\u001b[0m \u001b[1m17s\u001b[0m 38ms/step - acc: 0.1148 - loss: 2.9511 - val_acc: 0.5958 - val_loss: 1.2498\n",
      "Epoch 2/10\n",
      "\u001b[1m215/215\u001b[0m \u001b[32m━━━━━━━━━━━━━━━━━━━━\u001b[0m\u001b[37m\u001b[0m \u001b[1m1s\u001b[0m 4ms/step - acc: 0.6102 - loss: 1.1515 - val_acc: 0.7464 - val_loss: 0.7355\n",
      "Epoch 3/10\n",
      "\u001b[1m215/215\u001b[0m \u001b[32m━━━━━━━━━━━━━━━━━━━━\u001b[0m\u001b[37m\u001b[0m \u001b[1m1s\u001b[0m 4ms/step - acc: 0.7725 - loss: 0.6790 - val_acc: 0.8155 - val_loss: 0.5238\n",
      "Epoch 4/10\n",
      "\u001b[1m215/215\u001b[0m \u001b[32m━━━━━━━━━━━━━━━━━━━━\u001b[0m\u001b[37m\u001b[0m \u001b[1m1s\u001b[0m 4ms/step - acc: 0.8443 - loss: 0.4617 - val_acc: 0.8550 - val_loss: 0.4016\n",
      "Epoch 5/10\n",
      "\u001b[1m215/215\u001b[0m \u001b[32m━━━━━━━━━━━━━━━━━━━━\u001b[0m\u001b[37m\u001b[0m \u001b[1m1s\u001b[0m 4ms/step - acc: 0.8865 - loss: 0.3351 - val_acc: 0.8904 - val_loss: 0.3021\n",
      "Epoch 6/10\n",
      "\u001b[1m215/215\u001b[0m \u001b[32m━━━━━━━━━━━━━━━━━━━━\u001b[0m\u001b[37m\u001b[0m \u001b[1m1s\u001b[0m 4ms/step - acc: 0.9156 - loss: 0.2492 - val_acc: 0.8988 - val_loss: 0.2718\n",
      "Epoch 7/10\n",
      "\u001b[1m215/215\u001b[0m \u001b[32m━━━━━━━━━━━━━━━━━━━━\u001b[0m\u001b[37m\u001b[0m \u001b[1m1s\u001b[0m 4ms/step - acc: 0.9382 - loss: 0.1841 - val_acc: 0.9141 - val_loss: 0.2525\n",
      "Epoch 8/10\n",
      "\u001b[1m215/215\u001b[0m \u001b[32m━━━━━━━━━━━━━━━━━━━━\u001b[0m\u001b[37m\u001b[0m \u001b[1m1s\u001b[0m 4ms/step - acc: 0.9545 - loss: 0.1479 - val_acc: 0.9180 - val_loss: 0.2246\n",
      "Epoch 9/10\n",
      "\u001b[1m215/215\u001b[0m \u001b[32m━━━━━━━━━━━━━━━━━━━━\u001b[0m\u001b[37m\u001b[0m \u001b[1m1s\u001b[0m 4ms/step - acc: 0.9656 - loss: 0.1094 - val_acc: 0.9399 - val_loss: 0.2067\n",
      "Epoch 10/10\n",
      "\u001b[1m215/215\u001b[0m \u001b[32m━━━━━━━━━━━━━━━━━━━━\u001b[0m\u001b[37m\u001b[0m \u001b[1m1s\u001b[0m 4ms/step - acc: 0.9699 - loss: 0.0939 - val_acc: 0.9465 - val_loss: 0.1959\n"
     ]
    }
   ],
   "source": [
    "history = model.fit(X_train , y_train_category , batch_size = 128 , epochs = 10 ,verbose =1,validation_data =(X_test ,y_test_category))"
   ]
  },
  {
   "cell_type": "code",
   "execution_count": 16,
   "id": "d76ed8ce",
   "metadata": {
    "execution": {
     "iopub.execute_input": "2024-04-09T00:16:58.476098Z",
     "iopub.status.busy": "2024-04-09T00:16:58.475741Z",
     "iopub.status.idle": "2024-04-09T00:16:58.698309Z",
     "shell.execute_reply": "2024-04-09T00:16:58.697334Z"
    },
    "papermill": {
     "duration": 0.248397,
     "end_time": "2024-04-09T00:16:58.700352",
     "exception": false,
     "start_time": "2024-04-09T00:16:58.451955",
     "status": "completed"
    },
    "tags": []
   },
   "outputs": [
    {
     "data": {
      "image/png": "[encoded data removed]",
      "text/plain": [
       "<Figure size 640x480 with 1 Axes>"
      ]
     },
     "metadata": {},
     "output_type": "display_data"
    }
   ],
   "source": [
    "loss = history.history['loss']\n",
    "val_loss = history.history['val_loss']\n",
    "epochs = range(1,len(loss)+1)\n",
    "plt.plot(epochs,loss,'y',label='training loss')\n",
    "plt.plot(epochs, val_loss,'r',label='validation loss')\n",
    "plt.title('training and validation loss')\n",
    "plt.xlabel('epochs')\n",
    "plt.ylabel('loss')\n",
    "plt.legend()\n",
    "plt.show()"
   ]
  },
  {
   "cell_type": "code",
   "execution_count": 17,
   "id": "d0e387a5",
   "metadata": {
    "execution": {
     "iopub.execute_input": "2024-04-09T00:16:58.748428Z",
     "iopub.status.busy": "2024-04-09T00:16:58.748064Z",
     "iopub.status.idle": "2024-04-09T00:16:58.752405Z",
     "shell.execute_reply": "2024-04-09T00:16:58.751511Z"
    },
    "papermill": {
     "duration": 0.030187,
     "end_time": "2024-04-09T00:16:58.754288",
     "exception": false,
     "start_time": "2024-04-09T00:16:58.724101",
     "status": "completed"
    },
    "tags": []
   },
   "outputs": [],
   "source": [
    "acc = history.history['acc']\n",
    "val_acc = history.history['val_acc']"
   ]
  },
  {
   "cell_type": "code",
   "execution_count": 18,
   "id": "97db0df0",
   "metadata": {
    "execution": {
     "iopub.execute_input": "2024-04-09T00:16:58.801243Z",
     "iopub.status.busy": "2024-04-09T00:16:58.800582Z",
     "iopub.status.idle": "2024-04-09T00:16:59.046398Z",
     "shell.execute_reply": "2024-04-09T00:16:59.045462Z"
    },
    "papermill": {
     "duration": 0.271536,
     "end_time": "2024-04-09T00:16:59.048385",
     "exception": false,
     "start_time": "2024-04-09T00:16:58.776849",
     "status": "completed"
    },
    "tags": []
   },
   "outputs": [
    {
     "data": {
      "image/png": "[encoded data removed]",
      "text/plain": [
       "<Figure size 640x480 with 1 Axes>"
      ]
     },
     "metadata": {},
     "output_type": "display_data"
    }
   ],
   "source": [
    "plt.plot(epochs,acc,'y',label='training acc')\n",
    "plt.plot(epochs,val_acc,'r',label='validation acc')\n",
    "plt.title('training and validation accuracy')\n",
    "plt.xlabel('epochs')\n",
    "plt.ylabel('accuracy')\n",
    "plt.legend()\n",
    "plt.show()"
   ]
  },
  {
   "cell_type": "code",
   "execution_count": 19,
   "id": "ed4ceac4",
   "metadata": {
    "execution": {
     "iopub.execute_input": "2024-04-09T00:16:59.096307Z",
     "iopub.status.busy": "2024-04-09T00:16:59.095673Z",
     "iopub.status.idle": "2024-04-09T00:17:00.607720Z",
     "shell.execute_reply": "2024-04-09T00:17:00.606643Z"
    },
    "papermill": {
     "duration": 1.538647,
     "end_time": "2024-04-09T00:17:00.610094",
     "exception": false,
     "start_time": "2024-04-09T00:16:59.071447",
     "status": "completed"
    },
    "tags": []
   },
   "outputs": [
    {
     "name": "stdout",
     "output_type": "stream",
     "text": [
      "\u001b[1m225/225\u001b[0m \u001b[32m━━━━━━━━━━━━━━━━━━━━\u001b[0m\u001b[37m\u001b[0m \u001b[1m1s\u001b[0m 3ms/step\n"
     ]
    }
   ],
   "source": [
    "# Make predictions\n",
    "predictions = model.predict(X_test)\n",
    "\n",
    "# Convert raw predictions to predicted classes\n",
    "predicted_classes = np.argmax(predictions, axis=1)"
   ]
  },
  {
   "cell_type": "code",
   "execution_count": 20,
   "id": "37755ce4",
   "metadata": {
    "execution": {
     "iopub.execute_input": "2024-04-09T00:17:00.659434Z",
     "iopub.status.busy": "2024-04-09T00:17:00.658715Z",
     "iopub.status.idle": "2024-04-09T00:17:01.606433Z",
     "shell.execute_reply": "2024-04-09T00:17:01.605627Z"
    },
    "papermill": {
     "duration": 0.97487,
     "end_time": "2024-04-09T00:17:01.608724",
     "exception": false,
     "start_time": "2024-04-09T00:17:00.633854",
     "status": "completed"
    },
    "tags": []
   },
   "outputs": [],
   "source": [
    "from sklearn.metrics import accuracy_score"
   ]
  },
  {
   "cell_type": "code",
   "execution_count": 21,
   "id": "afd0677a",
   "metadata": {
    "execution": {
     "iopub.execute_input": "2024-04-09T00:17:01.658457Z",
     "iopub.status.busy": "2024-04-09T00:17:01.657595Z",
     "iopub.status.idle": "2024-04-09T00:17:01.664504Z",
     "shell.execute_reply": "2024-04-09T00:17:01.663430Z"
    },
    "papermill": {
     "duration": 0.033729,
     "end_time": "2024-04-09T00:17:01.666543",
     "exception": false,
     "start_time": "2024-04-09T00:17:01.632814",
     "status": "completed"
    },
    "tags": []
   },
   "outputs": [
    {
     "name": "stdout",
     "output_type": "stream",
     "text": [
      "accuracy score = 0.9464584495259342\n"
     ]
    }
   ],
   "source": [
    "accuracy = accuracy_score(y_test, predicted_classes)\n",
    "print('accuracy score =',accuracy)"
   ]
  },
  {
   "cell_type": "code",
   "execution_count": 22,
   "id": "2a84a618",
   "metadata": {
    "execution": {
     "iopub.execute_input": "2024-04-09T00:17:01.717212Z",
     "iopub.status.busy": "2024-04-09T00:17:01.716867Z",
     "iopub.status.idle": "2024-04-09T00:17:01.924039Z",
     "shell.execute_reply": "2024-04-09T00:17:01.923107Z"
    },
    "papermill": {
     "duration": 0.234356,
     "end_time": "2024-04-09T00:17:01.926120",
     "exception": false,
     "start_time": "2024-04-09T00:17:01.691764",
     "status": "completed"
    },
    "tags": []
   },
   "outputs": [
    {
     "name": "stdout",
     "output_type": "stream",
     "text": [
      "predicted label :  C\n",
      "true label :  C\n"
     ]
    },
    {
     "data": {
      "image/png": "[encoded data removed]",
      "text/plain": [
       "<Figure size 640x480 with 1 Axes>"
      ]
     },
     "metadata": {},
     "output_type": "display_data"
    }
   ],
   "source": [
    "i = random.randint(1,len(predicted_classes))\n",
    "plt.imshow(X_test[i,:,:,0])\n",
    "print(\"predicted label : \",class_names[int(predicted_classes[i])])\n",
    "print(\"true label : \", class_names[int(y_test[i])])"
   ]
  },
  {
   "cell_type": "code",
   "execution_count": null,
   "id": "532066be",
   "metadata": {
    "papermill": {
     "duration": 0.023568,
     "end_time": "2024-04-09T00:17:01.973785",
     "exception": false,
     "start_time": "2024-04-09T00:17:01.950217",
     "status": "completed"
    },
    "tags": []
   },
   "outputs": [],
   "source": []
  }
 ],
 "metadata": {
  "kaggle": {
   "accelerator": "nvidiaTeslaT4",
   "dataSources": [
    {
     "datasetId": 3258,
     "sourceId": 5337,
     "sourceType": "datasetVersion"
    }
   ],
   "dockerImageVersionId": 30683,
   "isGpuEnabled": true,
   "isInternetEnabled": true,
   "language": "python",
   "sourceType": "notebook"
  },
  "kernelspec": {
   "display_name": "Python 3",
   "language": "python",
   "name": "python3"
  },
  "language_info": {
   "codemirror_mode": {
    "name": "ipython",
    "version": 3
   },
   "file_extension": ".py",
   "mimetype": "text/x-python",
   "name": "python",
   "nbconvert_exporter": "python",
   "pygments_lexer": "ipython3",
   "version": "3.10.13"
  },
  "papermill": {
   "default_parameters": {},
   "duration": 57.302256,
   "end_time": "2024-04-09T00:17:05.114709",
   "environment_variables": {},
   "exception": null,
   "input_path": "__notebook__.ipynb",
   "output_path": "__notebook__.ipynb",
   "parameters": {},
   "start_time": "2024-04-09T00:16:07.812453",
   "version": "2.5.0"
  }
 },
 "nbformat": 4,
 "nbformat_minor": 5
}
